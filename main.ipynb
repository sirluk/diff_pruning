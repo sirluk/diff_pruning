{
 "cells": [
  {
   "cell_type": "code",
   "execution_count": 1,
   "metadata": {},
   "outputs": [
    {
     "ename": "ImportError",
     "evalue": "cannot import name 'create_repo' from 'huggingface_hub' (C:\\Users\\Lukas\\miniconda3\\envs\\diff_pruning\\lib\\site-packages\\huggingface_hub\\__init__.py)",
     "output_type": "error",
     "traceback": [
      "\u001b[1;31m---------------------------------------------------------------------------\u001b[0m",
      "\u001b[1;31mImportError\u001b[0m                               Traceback (most recent call last)",
      "Input \u001b[1;32mIn [1]\u001b[0m, in \u001b[0;36m<module>\u001b[1;34m\u001b[0m\n\u001b[0;32m      4\u001b[0m \u001b[38;5;28;01mimport\u001b[39;00m \u001b[38;5;21;01mtorch\u001b[39;00m\n\u001b[0;32m      5\u001b[0m \u001b[38;5;28;01mfrom\u001b[39;00m \u001b[38;5;21;01mtorch\u001b[39;00m\u001b[38;5;21;01m.\u001b[39;00m\u001b[38;5;21;01mutils\u001b[39;00m\u001b[38;5;21;01m.\u001b[39;00m\u001b[38;5;21;01mdata\u001b[39;00m \u001b[38;5;28;01mimport\u001b[39;00m DataLoader, RandomSampler, TensorDataset, SequentialSampler\n\u001b[1;32m----> 6\u001b[0m \u001b[38;5;28;01mfrom\u001b[39;00m \u001b[38;5;21;01mtransformers\u001b[39;00m \u001b[38;5;28;01mimport\u001b[39;00m AutoTokenizer\n\u001b[0;32m      7\u001b[0m \u001b[38;5;28;01mfrom\u001b[39;00m \u001b[38;5;21;01mdatasets\u001b[39;00m \u001b[38;5;28;01mimport\u001b[39;00m load_dataset\n\u001b[0;32m      9\u001b[0m \u001b[38;5;28;01mfrom\u001b[39;00m \u001b[38;5;21;01msrc\u001b[39;00m\u001b[38;5;21;01m.\u001b[39;00m\u001b[38;5;21;01mmodel\u001b[39;00m \u001b[38;5;28;01mimport\u001b[39;00m DiffNetwork\n",
      "File \u001b[1;32m~\\miniconda3\\envs\\diff_pruning\\lib\\site-packages\\transformers\\__init__.py:43\u001b[0m, in \u001b[0;36m<module>\u001b[1;34m\u001b[0m\n\u001b[0;32m     40\u001b[0m \u001b[38;5;28;01mfrom\u001b[39;00m \u001b[38;5;21;01mtyping\u001b[39;00m \u001b[38;5;28;01mimport\u001b[39;00m TYPE_CHECKING\n\u001b[0;32m     42\u001b[0m \u001b[38;5;66;03m# Check the dependencies satisfy the minimal versions required.\u001b[39;00m\n\u001b[1;32m---> 43\u001b[0m \u001b[38;5;28;01mfrom\u001b[39;00m \u001b[38;5;21;01m.\u001b[39;00m \u001b[38;5;28;01mimport\u001b[39;00m dependency_versions_check\n\u001b[0;32m     44\u001b[0m \u001b[38;5;28;01mfrom\u001b[39;00m \u001b[38;5;21;01m.\u001b[39;00m\u001b[38;5;21;01mfile_utils\u001b[39;00m \u001b[38;5;28;01mimport\u001b[39;00m (\n\u001b[0;32m     45\u001b[0m     _LazyModule,\n\u001b[0;32m     46\u001b[0m     is_flax_available,\n\u001b[1;32m   (...)\u001b[0m\n\u001b[0;32m     56\u001b[0m     is_vision_available,\n\u001b[0;32m     57\u001b[0m )\n\u001b[0;32m     58\u001b[0m \u001b[38;5;28;01mfrom\u001b[39;00m \u001b[38;5;21;01m.\u001b[39;00m\u001b[38;5;21;01mutils\u001b[39;00m \u001b[38;5;28;01mimport\u001b[39;00m logging\n",
      "File \u001b[1;32m~\\miniconda3\\envs\\diff_pruning\\lib\\site-packages\\transformers\\dependency_versions_check.py:36\u001b[0m, in \u001b[0;36m<module>\u001b[1;34m\u001b[0m\n\u001b[0;32m     33\u001b[0m \u001b[38;5;28;01mif\u001b[39;00m pkg \u001b[38;5;129;01min\u001b[39;00m deps:\n\u001b[0;32m     34\u001b[0m     \u001b[38;5;28;01mif\u001b[39;00m pkg \u001b[38;5;241m==\u001b[39m \u001b[38;5;124m\"\u001b[39m\u001b[38;5;124mtokenizers\u001b[39m\u001b[38;5;124m\"\u001b[39m:\n\u001b[0;32m     35\u001b[0m         \u001b[38;5;66;03m# must be loaded here, or else tqdm check may fail\u001b[39;00m\n\u001b[1;32m---> 36\u001b[0m         \u001b[38;5;28;01mfrom\u001b[39;00m \u001b[38;5;21;01m.\u001b[39;00m\u001b[38;5;21;01mfile_utils\u001b[39;00m \u001b[38;5;28;01mimport\u001b[39;00m is_tokenizers_available\n\u001b[0;32m     38\u001b[0m         \u001b[38;5;28;01mif\u001b[39;00m \u001b[38;5;129;01mnot\u001b[39;00m is_tokenizers_available():\n\u001b[0;32m     39\u001b[0m             \u001b[38;5;28;01mcontinue\u001b[39;00m  \u001b[38;5;66;03m# not required, check version only if installed\u001b[39;00m\n",
      "File \u001b[1;32m~\\miniconda3\\envs\\diff_pruning\\lib\\site-packages\\transformers\\file_utils.py:52\u001b[0m, in \u001b[0;36m<module>\u001b[1;34m\u001b[0m\n\u001b[0;32m     50\u001b[0m \u001b[38;5;28;01mimport\u001b[39;00m \u001b[38;5;21;01mrequests\u001b[39;00m\n\u001b[0;32m     51\u001b[0m \u001b[38;5;28;01mfrom\u001b[39;00m \u001b[38;5;21;01mfilelock\u001b[39;00m \u001b[38;5;28;01mimport\u001b[39;00m FileLock\n\u001b[1;32m---> 52\u001b[0m \u001b[38;5;28;01mfrom\u001b[39;00m \u001b[38;5;21;01mhuggingface_hub\u001b[39;00m \u001b[38;5;28;01mimport\u001b[39;00m HfFolder, Repository, create_repo, list_repo_files, whoami\n\u001b[0;32m     53\u001b[0m \u001b[38;5;28;01mfrom\u001b[39;00m \u001b[38;5;21;01mtransformers\u001b[39;00m\u001b[38;5;21;01m.\u001b[39;00m\u001b[38;5;21;01mutils\u001b[39;00m\u001b[38;5;21;01m.\u001b[39;00m\u001b[38;5;21;01mversions\u001b[39;00m \u001b[38;5;28;01mimport\u001b[39;00m importlib_metadata\n\u001b[0;32m     55\u001b[0m \u001b[38;5;28;01mfrom\u001b[39;00m \u001b[38;5;21;01m.\u001b[39;00m \u001b[38;5;28;01mimport\u001b[39;00m __version__\n",
      "\u001b[1;31mImportError\u001b[0m: cannot import name 'create_repo' from 'huggingface_hub' (C:\\Users\\Lukas\\miniconda3\\envs\\diff_pruning\\lib\\site-packages\\huggingface_hub\\__init__.py)"
     ]
    }
   ],
   "source": [
    "import ruamel.yaml as yaml\n",
    "import argparse\n",
    "from pathlib import Path\n",
    "import torch\n",
    "from torch.utils.data import DataLoader, RandomSampler, TensorDataset, SequentialSampler\n",
    "from transformers import AutoTokenizer\n",
    "from datasets import load_dataset\n",
    "\n",
    "from src.model import DiffNetwork\n",
    "from src.training_logger import TrainLogger\n",
    "from src.metrics import accuracy"
   ]
  },
  {
   "cell_type": "code",
   "execution_count": null,
   "metadata": {},
   "outputs": [],
   "source": [
    "DEVICE = \"cuda\" if torch.cuda.is_available() else \"cpu\""
   ]
  },
  {
   "cell_type": "code",
   "execution_count": null,
   "metadata": {},
   "outputs": [],
   "source": [
    "def get_ds(tokenizer) -> TensorDataset:\n",
    "    \n",
    "    ds = load_dataset(\"glue\", \"sst2\", cache_dir=\"cache\")\n",
    "    ds = ds.map(\n",
    "        lambda x: tokenizer(x[\"sentence\"], padding=\"max_length\", max_length=128, truncation=True),\n",
    "        batched=True,\n",
    "        load_from_cache_file=False,\n",
    "        desc=\"Running tokenizer on dataset\"\n",
    "    )\n",
    "    \n",
    "\n",
    "def get_ds_part(ds, part) -> TensorDataset:\n",
    "    _ds = ds[part]\n",
    "    return TensorDataset(\n",
    "        torch.tensor(_ds[\"input_ids\"], dtype=torch.long),\n",
    "        torch.tensor(_ds[\"attention_mask\"], dtype=torch.long),\n",
    "        torch.tensor(_ds[\"token_type_ids\"], dtype=torch.long),\n",
    "        torch.tensor(_ds[\"label\"], dtype=torch.float)\n",
    "    )"
   ]
  },
  {
   "cell_type": "code",
   "execution_count": null,
   "metadata": {},
   "outputs": [],
   "source": [
    "with open(\"cfg.yml\", \"r\") as f:\n",
    "    cfg = yaml.safe_load(f)    \n",
    "args = argparse.Namespace(**cfg[\"train_config\"])"
   ]
  },
  {
   "cell_type": "code",
   "execution_count": null,
   "metadata": {},
   "outputs": [],
   "source": [
    "Path(args.output_dir).mkdir(parents=True, exist_ok=True)\n",
    "\n",
    "tokenizer = AutoTokenizer.from_pretrained(args.model_name)\n",
    "\n",
    "ds = get_ds(tokenizer)\n",
    "\n",
    "pred_fn = lambda x: (torch.sigmoid(x) > .5).long()\n",
    "loss_fn = torch.nn.BCEWithLogitsLoss()\n",
    "metrics = {\n",
    "    \"acc\": lambda x, y: accuracy(pred_fn(x), y),\n",
    "    \"balanced_acc\": lambda x, y: accuracy(pred_fn(x), y, balanced=True)\n",
    "}\n",
    "\n",
    "ds_train = get_ds_part(ds, \"train\")\n",
    "train_loader = DataLoader(ds_train, sampler=RandomSampler(ds_train), batch_size=args.batch_size)\n",
    "ds_eval = get_ds_part(ds, \"validation\")\n",
    "eval_loader = DataLoader(ds_eval, sampler=SequentialSampler(ds_eval), batch_size=args.batch_size)"
   ]
  },
  {
   "cell_type": "code",
   "execution_count": null,
   "metadata": {},
   "outputs": [],
   "source": [
    "train_logger = TrainLogger(\n",
    "    log_dir = Path(args.output_dir) / \"logs\",\n",
    "    logger_name = \"diff_pruning_logger\",\n",
    "    logging_step = args.logging_step\n",
    ")\n",
    "\n",
    "trainer = DiffNetwork(1, args.model_name)\n",
    "trainer.to(DEVICE)\n"
   ]
  },
  {
   "cell_type": "code",
   "execution_count": null,
   "metadata": {},
   "outputs": [],
   "source": [
    "trainer.fit(\n",
    "    train_loader,\n",
    "    eval_loader,\n",
    "    train_logger,\n",
    "    loss_fn,\n",
    "    metrics,\n",
    "    args.alpha_init,\n",
    "    args.concrete_lower,\n",
    "    args.concrete_upper,\n",
    "    args.structured_diff_pruning,\n",
    "    args.gradient_accumulation_steps,\n",
    "    args.num_epochs_finetune,\n",
    "    args.num_epochs_fixmask,\n",
    "    args.weight_decay,\n",
    "    args.learning_rate,\n",
    "    args.learning_rate_alpha,\n",
    "    args.adam_epsilon,\n",
    "    args.warmup_steps,\n",
    "    args.sparsity_pen,\n",
    "    args.max_grad_norm,\n",
    "    args.fixmask_pct,\n",
    "    args.output_dir\n",
    ")"
   ]
  }
 ],
 "metadata": {
  "interpreter": {
   "hash": "abe5635de4923513e38920b6bc575cd463d46c92e3bd0a55fab106d80d442021"
  },
  "kernelspec": {
   "display_name": "Python 3.8.12 64-bit ('diff_pruning': conda)",
   "language": "python",
   "name": "python3"
  },
  "language_info": {
   "codemirror_mode": {
    "name": "ipython",
    "version": 3
   },
   "file_extension": ".py",
   "mimetype": "text/x-python",
   "name": "python",
   "nbconvert_exporter": "python",
   "pygments_lexer": "ipython3",
   "version": "3.9.7"
  },
  "orig_nbformat": 4
 },
 "nbformat": 4,
 "nbformat_minor": 2
}
